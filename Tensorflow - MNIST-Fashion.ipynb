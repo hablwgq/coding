{
 "cells": [
  {
   "cell_type": "code",
   "execution_count": 1,
   "metadata": {
    "scrolled": true
   },
   "outputs": [
    {
     "name": "stdout",
     "output_type": "stream",
     "text": [
      "Extracting mnist-fashion\\train-images-idx3-ubyte.gz\n",
      "Extracting mnist-fashion\\train-labels-idx1-ubyte.gz\n",
      "Extracting mnist-fashion\\t10k-images-idx3-ubyte.gz\n",
      "Extracting mnist-fashion\\t10k-labels-idx1-ubyte.gz\n"
     ]
    }
   ],
   "source": [
    "#Import\n",
    "import numpy as np\n",
    "import tensorflow as tf\n",
    "import random\n",
    "from matplotlib import pyplot as plt\n",
    "import matplotlib.image as mpimg\n",
    "#np.set_printoptions(threshold=np.nan)\n",
    "\n",
    "from tensorflow.examples.tutorials.mnist import input_data\n",
    "data = input_data.read_data_sets('mnist-fashion')\n",
    "\n",
    "#Dataset\n",
    "#mnist = tf.contrib.learn.datasets.load_dataset(\"mnist\")\n",
    "train_data = data.train.images # Returns np.array\n",
    "ou_train_labels = np.asarray(data.train.labels, dtype=np.int32)\n",
    "test_data = data.test.images # Returns np.array\n",
    "ou_test_labels = np.asarray(data.test.labels, dtype=np.int32)"
   ]
  },
  {
   "cell_type": "code",
   "execution_count": 2,
   "metadata": {
    "collapsed": true
   },
   "outputs": [],
   "source": [
    "fmnist_name = {\n",
    "    0: \"T-Shirt/Top\",\n",
    "    1: \"Trouser\",\n",
    "    2: \"Pullover\",\n",
    "    3: \"Dress\",\n",
    "    4: \"Coat\",\n",
    "    5: \"Sandal\",\n",
    "    6: \"Shirt\",\n",
    "    7: \"Sneaker\",\n",
    "    8: \"Bag\",\n",
    "    9: \"Ankle boot\"\n",
    "}"
   ]
  },
  {
   "cell_type": "code",
   "execution_count": 3,
   "metadata": {
    "collapsed": true
   },
   "outputs": [],
   "source": [
    "def weight_variable(shape):\n",
    "    return tf.Variable(tf.truncated_normal(shape, stddev=0.1))\n",
    "def bias_variable(shape):\n",
    "    return tf.Variable(tf.constant(0.1, shape=shape))\n",
    "\n",
    "def conv2d(x, W):\n",
    "    return tf.nn.conv2d(x, W, strides=[1, 1, 1, 1], padding='SAME')\n",
    "def max_pool_2x2(x):\n",
    "    return tf.nn.max_pool(x, ksize=[1, 2, 2, 1],\n",
    "                        strides=[1, 2, 2, 1], padding='SAME')"
   ]
  },
  {
   "cell_type": "code",
   "execution_count": 4,
   "metadata": {
    "collapsed": true
   },
   "outputs": [],
   "source": [
    "def next_batch(num, data, labels):\n",
    "    '''\n",
    "    Return a total of `num` random samples and labels. \n",
    "    '''\n",
    "    idx = np.arange(0 , len(data))\n",
    "    np.random.shuffle(idx)\n",
    "    idx = idx[:num]\n",
    "    data_shuffle = [data[ i] for i in idx]\n",
    "    labels_shuffle = [labels[ i] for i in idx]\n",
    "\n",
    "    return np.asarray(data_shuffle), np.asarray(labels_shuffle)"
   ]
  },
  {
   "cell_type": "code",
   "execution_count": 5,
   "metadata": {
    "collapsed": true
   },
   "outputs": [],
   "source": [
    "train_labels = []\n",
    "test_labels = []\n",
    "\n",
    "for i in range(len(ou_train_labels)):\n",
    "    label_dat = np.zeros(10)\n",
    "    label_dat[ou_train_labels[i]] = 1\n",
    "\n",
    "    train_labels.append(label_dat)\n",
    "    \n",
    "for i in range(len(ou_test_labels)):\n",
    "    label_dat = np.zeros(10)\n",
    "    label_dat[ou_test_labels[i]] = 1\n",
    "\n",
    "    test_labels.append(label_dat)"
   ]
  },
  {
   "cell_type": "code",
   "execution_count": 6,
   "metadata": {
    "collapsed": true
   },
   "outputs": [],
   "source": [
    "x = tf.placeholder(tf.float32, [None, 784])\n",
    "\n",
    "x_image = tf.reshape(x, [-1, 28, 28, 1])\n",
    "W_conv1 = weight_variable([5, 5, 1, 32])\n",
    "b_conv1 = bias_variable([32])\n",
    "\n",
    "h_conv1 = tf.nn.relu(conv2d(x_image, W_conv1) + b_conv1)\n",
    "h_pool1 = max_pool_2x2(h_conv1)\n",
    "\n",
    "W_conv2 = weight_variable([5, 5, 32, 64])\n",
    "b_conv2 = bias_variable([64])\n",
    "\n",
    "h_conv2 = tf.nn.relu(conv2d(h_pool1, W_conv2) + b_conv2)\n",
    "h_pool2 = max_pool_2x2(h_conv2)\n",
    "\n",
    "W_fc1 = weight_variable([7 * 7 * 64, 1024])\n",
    "b_fc1 = bias_variable([1024])\n",
    "\n",
    "h_pool2_flat = tf.reshape(h_pool2, [-1, 7*7*64])\n",
    "h_fc1 = tf.nn.relu(tf.matmul(h_pool2_flat, W_fc1) + b_fc1)\n",
    "\n",
    "keep_prob = tf.placeholder(tf.float32)\n",
    "h_fc1_drop = tf.nn.dropout(h_fc1, keep_prob)\n",
    "\n",
    "W_fc2 = weight_variable([1024, 64])\n",
    "b_fc2 = bias_variable([64])\n",
    "\n",
    "h_fc2 = tf.matmul(h_fc1_drop, W_fc2) + b_fc2\n",
    "\n",
    "W_fc3 = weight_variable([64, 10])\n",
    "b_fc3 = bias_variable([10])\n",
    "\n",
    "y = tf.matmul(h_fc2, W_fc3) + b_fc3\n",
    "\n",
    "result = tf.nn.softmax(y)\n",
    "\n",
    "y_ = tf.placeholder(tf.float32, [None, 10])\n",
    "\n",
    "cross_entropy = tf.reduce_mean(tf.nn.softmax_cross_entropy_with_logits(labels=y_, logits=y))\n",
    "train_step = tf.train.AdamOptimizer(1e-4).minimize(cross_entropy)"
   ]
  },
  {
   "cell_type": "code",
   "execution_count": 7,
   "metadata": {
    "collapsed": true
   },
   "outputs": [],
   "source": [
    "init = tf.global_variables_initializer()\n",
    "\n",
    "sess = tf.InteractiveSession()\n",
    "sess.run(init)\n",
    "\n",
    "saver = tf.train.Saver()"
   ]
  },
  {
   "cell_type": "code",
   "execution_count": 8,
   "metadata": {
    "collapsed": true
   },
   "outputs": [],
   "source": [
    "#Load the model\n",
    "saver.restore(sess, \"./tf-models/mnist-fashion.ckpt\")"
   ]
  },
  {
   "cell_type": "code",
   "execution_count": 8,
   "metadata": {
    "scrolled": true
   },
   "outputs": [
    {
     "name": "stdout",
     "output_type": "stream",
     "text": [
      "test error 0.42844, train error 0.6389828\n",
      "test error 0.420159, train error 0.46614"
     ]
    }
   ],
   "source": [
    "try:    \n",
    "    while True:\n",
    "        test_batch =next_batch(25, test_data, test_labels)\n",
    "        train_batch = next_batch(25, train_data, train_labels)\n",
    "        te = cross_entropy.eval(feed_dict={x: test_batch[0], y_: test_batch[1], keep_prob: 1.0})\n",
    "        tee = cross_entropy.eval(feed_dict={x: train_batch[0], y_: train_batch[1], keep_prob: 1.0})\n",
    "        print(\"\\rtest error %g, train error %g\"%(te, tee), end=\"\")\n",
    "        for i in range(11):\n",
    "            batch = next_batch(100, train_data, train_labels)\n",
    "            sess.run(train_step, feed_dict={x: batch[0], y_: batch[1], keep_prob: 0.4})\n",
    "except KeyboardInterrupt:\n",
    "    print(\"\")\n",
    "test_batch =next_batch(75, test_data, test_labels)\n",
    "train_batch = next_batch(75, train_data, train_labels)\n",
    "te = cross_entropy.eval(feed_dict={x: test_batch[0], y_: test_batch[1], keep_prob: 1.0})\n",
    "tee = cross_entropy.eval(feed_dict={x: train_batch[0], y_: train_batch[1], keep_prob: 1.0})\n",
    "print(\"test error %g, train error %g\"%(te, tee), end=\"\")"
   ]
  },
  {
   "cell_type": "code",
   "execution_count": 9,
   "metadata": {},
   "outputs": [
    {
     "data": {
      "text/plain": [
       "'./tf-models/mnist-fashion.ckpt'"
      ]
     },
     "execution_count": 9,
     "metadata": {},
     "output_type": "execute_result"
    }
   ],
   "source": [
    "#Save the model\n",
    "saver.save(sess, \"./tf-models/mnist-fashion.ckpt\")"
   ]
  },
  {
   "cell_type": "code",
   "execution_count": 10,
   "metadata": {},
   "outputs": [
    {
     "data": {
      "image/png": "[encoded data removed]",
      "text/plain": [
       "<matplotlib.figure.Figure at 0x4d3c278>"
      ]
     },
     "metadata": {},
     "output_type": "display_data"
    },
    {
     "name": "stdout",
     "output_type": "stream",
     "text": [
      "suggested label: Coat\n",
      "confidence: 51%\n",
      "correct label: Coat\n",
      "T-Shirt/Top     0.00\t 0\n",
      "Trouser         0.00\t 0\n",
      "Pullover        0.38\t 0\n",
      "Dress           0.00\t 0\n",
      "Coat            0.51\t 1\n",
      "Sandal          0.00\t 0\n",
      "Shirt           0.11\t 0\n",
      "Sneaker         0.00\t 0\n",
      "Bag             0.00\t 0\n",
      "Ankle boot      0.00\t 0\n",
      "\n"
     ]
    },
    {
     "data": {
      "image/png": "[encoded data removed]",
      "text/plain": [
       "<matplotlib.figure.Figure at 0xc1eea58>"
      ]
     },
     "metadata": {},
     "output_type": "display_data"
    },
    {
     "name": "stdout",
     "output_type": "stream",
     "text": [
      "suggested label: Sneaker\n",
      "confidence: 100%\n",
      "correct label: Sneaker\n",
      "T-Shirt/Top     0.00\t 0\n",
      "Trouser         0.00\t 0\n",
      "Pullover        0.00\t 0\n",
      "Dress           0.00\t 0\n",
      "Coat            0.00\t 0\n",
      "Sandal          0.00\t 0\n",
      "Shirt           0.00\t 0\n",
      "Sneaker         1.00\t 1\n",
      "Bag             0.00\t 0\n",
      "Ankle boot      0.00\t 0\n",
      "\n"
     ]
    },
    {
     "data": {
      "image/png": "[encoded data removed]",
      "text/plain": [
       "<matplotlib.figure.Figure at 0xd115d68>"
      ]
     },
     "metadata": {},
     "output_type": "display_data"
    },
    {
     "name": "stdout",
     "output_type": "stream",
     "text": [
      "suggested label: Sneaker\n",
      "confidence: 97%\n",
      "correct label: Sneaker\n",
      "T-Shirt/Top     0.00\t 0\n",
      "Trouser         0.00\t 0\n",
      "Pullover        0.00\t 0\n",
      "Dress           0.00\t 0\n",
      "Coat            0.00\t 0\n",
      "Sandal          0.01\t 0\n",
      "Shirt           0.00\t 0\n",
      "Sneaker         0.97\t 1\n",
      "Bag             0.00\t 0\n",
      "Ankle boot      0.02\t 0\n",
      "\n"
     ]
    }
   ],
   "source": [
    "image = random.randint(0,len(test_data)-5)\n",
    "\n",
    "#num = int(input(\"How many pictues shall be shown?\"))\n",
    "num = 3\n",
    "res = sess.run(result, feed_dict={x: test_data[image:image+num], keep_prob: 1})\n",
    "\n",
    "#print(test_data[0])\n",
    "\n",
    "for j,e in enumerate(res):\n",
    "    data = []\n",
    "    for i in range(28):\n",
    "        tmp = []\n",
    "        for k in range(28):\n",
    "            tmp.append([test_data[image+j][28*i+k-1],test_data[image+j][28*i+k-1],test_data[image+j][28*i+k-1]])\n",
    "        data.append(tmp)\n",
    "    dat = np.array(data, dtype=np.float32)\n",
    "    plt.imshow(dat)\n",
    "    plt.show()\n",
    "    \n",
    "    print(\"suggested label: {:s}\\nconfidence: {:.0f}%\\ncorrect label: {:s}\".format(fmnist_name[e.argmax()], e.max()*100, fmnist_name[test_labels[image+j].argmax()]))\n",
    "    \n",
    "    for i in range(10):\n",
    "        print(\"{:15s} {:1.2f}\\t {:1.0f}\".format(fmnist_name[i], e[i], test_labels[image+j][i]))\n",
    "    print()"
   ]
  },
  {
   "cell_type": "code",
   "execution_count": null,
   "metadata": {
    "collapsed": true
   },
   "outputs": [],
   "source": []
  }
 ],
 "metadata": {
  "kernelspec": {
   "display_name": "Python 3",
   "language": "python",
   "name": "python3"
  },
  "language_info": {
   "codemirror_mode": {
    "name": "ipython",
    "version": 3
   },
   "file_extension": ".py",
   "mimetype": "text/x-python",
   "name": "python",
   "nbconvert_exporter": "python",
   "pygments_lexer": "ipython3",
   "version": "3.5.2"
  }
 },
 "nbformat": 4,
 "nbformat_minor": 2
}
