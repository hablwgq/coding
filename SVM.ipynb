{
 "cells": [
  {
   "cell_type": "code",
   "execution_count": 3,
   "metadata": {
    "collapsed": true
   },
   "outputs": [],
   "source": [
    "import sys\n",
    "import numpy as np\n",
    "import random\n",
    "import math\n",
    "from matplotlib import pyplot as plt\n",
    "%matplotlib inline"
   ]
  },
  {
   "cell_type": "code",
   "execution_count": 10,
   "metadata": {
    "collapsed": true
   },
   "outputs": [],
   "source": [
    "def appenddata(d):\n",
    "    x = d[0]\n",
    "    y = d[1]\n",
    "    d.append(x*x)\n",
    "    d.append(y*y)\n",
    "    d.append(x*y)\n",
    "    d.append(-x*x-y*y)\n",
    "    d.append(math.sin(x))\n",
    "    d.append(math.sin(y))\n",
    "    d.append(1)"
   ]
  },
  {
   "cell_type": "code",
   "execution_count": 11,
   "metadata": {},
   "outputs": [
    {
     "data": {
      "image/png": "[encoded data removed]",
      "text/plain": [
       "<matplotlib.figure.Figure at 0x9a45e80>"
      ]
     },
     "metadata": {},
     "output_type": "display_data"
    }
   ],
   "source": [
    "data = []\n",
    "\n",
    "for x in range(5):\n",
    "    for y in range(5):\n",
    "        data.append([x, y])\n",
    "\n",
    "for d in data:\n",
    "    appenddata(d)\n",
    "\n",
    "X = np.array(data)\n",
    "\n",
    "y = np.array([-1,-1,-1,-1,-1,\n",
    "              -1, 1, 1, 1,-1,\n",
    "              -1, 1, -1, 1,-1,\n",
    "              -1, 1, 1, 1,-1,\n",
    "              -1,-1,-1,-1,-1])\n",
    "\n",
    "for d, sample in enumerate(X):\n",
    "    if y[d] == -1:\n",
    "        plt.scatter(sample[0], sample[1], s=120, marker=\".\", linewidths=2,c=\"blue\")\n",
    "    else:\n",
    "        plt.scatter(sample[0], sample[1], s=120, marker=\".\", linewidths=2,c=\"red\")        "
   ]
  },
  {
   "cell_type": "code",
   "execution_count": 17,
   "metadata": {
    "collapsed": true
   },
   "outputs": [],
   "source": [
    "def update_weights(X,Y,learning_rate,epochs):\n",
    "    w = np.zeros(len(X[0]))\n",
    "    \n",
    "    for epoch in range(1, epochs):\n",
    "        for i, x in enumerate(X):\n",
    "            if Y[i] * np.dot(X[i], w) < 1:\n",
    "                w = w + learning_rate * X[i] * Y[i] + (-2  * (1 / epoch) * w)\n",
    "            else:\n",
    "                w = w + learning_rate * (-2 * (1 / epoch) * w)\n",
    "        if epoch % 5000 == 0:\n",
    "            sys.stdout.write(\"\\r{:.2f} %\".format(100*epoch/epochs))\n",
    "            sys.stdout.flush()\n",
    "            learning_rate *=0.99\n",
    "            \n",
    "            \n",
    "    sys.stdout.write(\"\\r100.00 %\")\n",
    "    sys.stdout.flush()\n",
    "    return w"
   ]
  },
  {
   "cell_type": "code",
   "execution_count": 18,
   "metadata": {},
   "outputs": [
    {
     "name": "stdout",
     "output_type": "stream",
     "text": [
      "100.00 %"
     ]
    }
   ],
   "source": [
    "w = update_weights(X, y, 0.75, 1000000)"
   ]
  },
  {
   "cell_type": "code",
   "execution_count": 19,
   "metadata": {},
   "outputs": [
    {
     "data": {
      "image/png": "[encoded data removed]",
      "text/plain": [
       "<matplotlib.figure.Figure at 0xafe7978>"
      ]
     },
     "metadata": {},
     "output_type": "display_data"
    }
   ],
   "source": [
    "x = np.linspace(-1,5,50)\n",
    "xx = np.linspace(-1,5,50)\n",
    "points = []\n",
    "for i in x:\n",
    "    for j in xx:\n",
    "        points.append([i,j])\n",
    "for p in points:\n",
    "    appenddata(p)\n",
    "for x in points:    \n",
    "    label = np.dot(np.array(x), w)\n",
    "    if label < 1:\n",
    "        plt.scatter(x[0], x[1], s=80, marker=\".\", linewidth=2, c=\"r\")\n",
    "        \n",
    "\n",
    "for d, sample in enumerate(X):\n",
    "    if y[d] == -1:\n",
    "        plt.scatter(sample[0], sample[1], s=50, marker=\".\", linewidth=2, c=\"b\")\n",
    "    else:\n",
    "        plt.scatter(sample[0], sample[1], s=50, marker=\".\", linewidth=2, c=\"g\")\n",
    "\n",
    "plt.show()"
   ]
  },
  {
   "cell_type": "code",
   "execution_count": null,
   "metadata": {
    "collapsed": true
   },
   "outputs": [],
   "source": []
  }
 ],
 "metadata": {
  "kernelspec": {
   "display_name": "Python 3",
   "language": "python",
   "name": "python3"
  },
  "language_info": {
   "codemirror_mode": {
    "name": "ipython",
    "version": 3
   },
   "file_extension": ".py",
   "mimetype": "text/x-python",
   "name": "python",
   "nbconvert_exporter": "python",
   "pygments_lexer": "ipython3",
   "version": "3.5.2"
  }
 },
 "nbformat": 4,
 "nbformat_minor": 2
}
