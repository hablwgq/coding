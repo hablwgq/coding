{
 "cells": [
  {
   "cell_type": "code",
   "execution_count": 1,
   "metadata": {},
   "outputs": [],
   "source": [
    "import random\n",
    "import numpy as np\n",
    "import tensorflow as tf\n",
    "from matplotlib import pyplot as plt\n",
    "import matplotlib.image as mpimg\n",
    "#numpy.set_printoptions(threshold=numpy.nan)\n",
    "def unpickle(file):\n",
    "    import pickle\n",
    "    with open(file, 'rb') as fo:\n",
    "        dict = pickle.load(fo, encoding='bytes')\n",
    "    return dict"
   ]
  },
  {
   "cell_type": "code",
   "execution_count": 2,
   "metadata": {},
   "outputs": [],
   "source": [
    "data = unpickle(\"cifar-10-batches-py/data_batch_1\")\n",
    "test = unpickle(\"cifar-10-batches-py/test_batch\")\n",
    "lables = unpickle(\"cifar-10-batches-py/batches.meta\")[b'label_names']\n",
    "\n",
    "x = tf.placeholder(tf.float32, [None, 1023])\n",
    "\n",
    "W_ih = tf.Variable(tf.random_uniform([1023, 16], maxval=1))\n",
    "b_ih = tf.Variable(tf.random_uniform([16], maxval=1))\n",
    "\n",
    "h1 = tf.nn.relu(tf.matmul(x, W_ih)+b_ih)\n",
    "\n",
    "W_hh = tf.Variable(tf.random_uniform([16, 16], maxval=1))\n",
    "b_hh = tf.Variable(tf.random_uniform([16], maxval=1))\n",
    "h2 = tf.nn.relu(tf.matmul(h1, W_hh)+b_hh)\n",
    "\n",
    "W_ho = tf.Variable(tf.random_uniform([16, 10], maxval=1))\n",
    "b_ho = tf.Variable(tf.random_uniform([10], maxval=1))\n",
    "\n",
    "y = tf.matmul(h2, W_ho)+b_ho\n",
    "result = tf.nn.sigmoid(y)\n",
    "\n",
    "y_ = tf.placeholder(tf.float32, [None, 10])\n",
    "\n",
    "cross_entropy = tf.reduce_mean(tf.nn.sigmoid_cross_entropy_with_logits(logits=y, labels=y_))\n",
    "train_step = tf.train.RMSPropOptimizer(0.25, momentum=0.5).minimize(cross_entropy)"
   ]
  },
  {
   "cell_type": "code",
   "execution_count": 4,
   "metadata": {},
   "outputs": [],
   "source": [
    "trainings_data = []\n",
    "trainings_labels = []\n",
    "for i in range(len(data[b'labels'])):\n",
    "    img_dat_r = data[b'data'][i][0:1023]\n",
    "    img_dat_g = data[b'data'][i][1024:2047]\n",
    "    img_dat_b = data[b'data'][i][2048:3071]\n",
    "    img_dat = np.zeros(len(img_dat_r))\n",
    "    for j in range(len(img_dat_r)):\n",
    "        img_dat[j] = 0.3*img_dat_r[j] +0.6*img_dat_g[j] +0.1*img_dat_b[j]\n",
    "    label_dat = np.zeros(10)\n",
    "    label_dat[data[b'labels'][i]] = 1\n",
    "    \n",
    "    trainings_data.append(img_dat)\n",
    "    trainings_labels.append(label_dat)\n",
    "    \n",
    "    \n",
    "test_data = []\n",
    "test_labels = []\n",
    "for i in range(len(test[b'labels'])):\n",
    "    img_dat_r = test[b'data'][i][0:1023]\n",
    "    img_dat_g = test[b'data'][i][1024:2047]\n",
    "    img_dat_b = test[b'data'][i][2048:3071]\n",
    "    img_dat = np.zeros(len(img_dat_r))\n",
    "    for j in range(len(img_dat_r)):\n",
    "        img_dat[j] = 0.3*img_dat_r[j] +0.6*img_dat_g[j] +0.11*img_dat_b[j]\n",
    "    label_dat = np.zeros(10)\n",
    "    label_dat[test[b'labels'][i]] = 1\n",
    "    \n",
    "    test_data.append(img_dat)\n",
    "    test_labels.append(label_dat)\n",
    "    "
   ]
  },
  {
   "cell_type": "code",
   "execution_count": 10,
   "metadata": {},
   "outputs": [
    {
     "name": "stdout",
     "output_type": "stream",
     "text": [
      "step 5000, training error 0.325445Training complete!\n"
     ]
    }
   ],
   "source": [
    "init = tf.global_variables_initializer()\n",
    "\n",
    "sess = tf.InteractiveSession()\n",
    "sess.run(init)\n",
    "\n",
    "for i in range(5001):\n",
    "    if i%10 == 0:\n",
    "        te = cross_entropy.eval(feed_dict={x: test_data, y_: test_labels})\n",
    "        print(\"\\rstep %d, training error %g\"%(i, te), end=\"\")\n",
    "        if te < 0.0001: # 99.999% accuracy is good enough\n",
    "            break\n",
    "\n",
    "    sess.run(train_step, feed_dict={x: trainings_data, y_: trainings_labels})\n",
    "print(\"\\nTraining complete!\")"
   ]
  },
  {
   "cell_type": "code",
   "execution_count": 27,
   "metadata": {},
   "outputs": [
    {
     "name": "stdout",
     "output_type": "stream",
     "text": [
      "Color images? n\n"
     ]
    },
    {
     "data": {
      "image/png": "[encoded data removed]",
      "text/plain": [
       "<matplotlib.figure.Figure at 0xb0c1dd8>"
      ]
     },
     "metadata": {},
     "output_type": "display_data"
    },
    {
     "name": "stdout",
     "output_type": "stream",
     "text": [
      "b'airplane'  \t 0.117023  \t 0.0\n",
      "b'automobile'  \t 0.0985603  \t 0.0\n",
      "b'bird'  \t 0.0945753  \t 0.0\n",
      "b'cat'  \t 0.0977722  \t 0.0\n",
      "b'deer'  \t 0.103681  \t 0.0\n",
      "b'dog'  \t 0.0903232  \t 0.0\n",
      "b'frog'  \t 0.113905  \t 0.0\n",
      "b'horse'  \t 0.0918861  \t 1.0\n",
      "b'ship'  \t 0.100604  \t 0.0\n",
      "b'truck'  \t 0.100467  \t 0.0\n",
      "\n"
     ]
    },
    {
     "data": {
      "image/png": "[encoded data removed]",
      "text/plain": [
       "<matplotlib.figure.Figure at 0xc354780>"
      ]
     },
     "metadata": {},
     "output_type": "display_data"
    },
    {
     "name": "stdout",
     "output_type": "stream",
     "text": [
      "b'airplane'  \t 0.117023  \t 0.0\n",
      "b'automobile'  \t 0.0985603  \t 0.0\n",
      "b'bird'  \t 0.0945753  \t 1.0\n",
      "b'cat'  \t 0.0977722  \t 0.0\n",
      "b'deer'  \t 0.103681  \t 0.0\n",
      "b'dog'  \t 0.0903232  \t 0.0\n",
      "b'frog'  \t 0.113905  \t 0.0\n",
      "b'horse'  \t 0.0918861  \t 0.0\n",
      "b'ship'  \t 0.100604  \t 0.0\n",
      "b'truck'  \t 0.100467  \t 0.0\n",
      "\n"
     ]
    },
    {
     "data": {
      "image/png": "[encoded data removed]",
      "text/plain": [
       "<matplotlib.figure.Figure at 0xc52c668>"
      ]
     },
     "metadata": {},
     "output_type": "display_data"
    },
    {
     "name": "stdout",
     "output_type": "stream",
     "text": [
      "b'airplane'  \t 0.117023  \t 0.0\n",
      "b'automobile'  \t 0.0985603  \t 0.0\n",
      "b'bird'  \t 0.0945753  \t 0.0\n",
      "b'cat'  \t 0.0977722  \t 0.0\n",
      "b'deer'  \t 0.103681  \t 1.0\n",
      "b'dog'  \t 0.0903232  \t 0.0\n",
      "b'frog'  \t 0.113905  \t 0.0\n",
      "b'horse'  \t 0.0918861  \t 0.0\n",
      "b'ship'  \t 0.100604  \t 0.0\n",
      "b'truck'  \t 0.100467  \t 0.0\n",
      "\n"
     ]
    }
   ],
   "source": [
    "res = sess.run(result, feed_dict={x: test_data})\n",
    "image = random.randint(0,len(res))\n",
    "use_color_image = True if (input(\"Color images? \") == \"y\") else False\n",
    "\n",
    "for j,e in enumerate(res[image:image+3]):\n",
    "    data = []\n",
    "    for i in range(32):\n",
    "        tmp = []\n",
    "        for k in range(32):\n",
    "            if use_color_image:\n",
    "                img_dat_r = test[b'data'][image+j][32*k+i-1]\n",
    "                img_dat_g = test[b'data'][image+j][1024+32*k+i-1]\n",
    "                img_dat_b = test[b'data'][image+j][2048+32*k+i-1]\n",
    "                tmp.append([img_dat_r,img_dat_g,img_dat_b])\n",
    "            else:\n",
    "                tmp.append([test_data[image+j][32*k+i-1]/255, test_data[image+j][32*k+i-1]/255, test_data[image+j][32*k+i-1]/255])\n",
    "        data.append(tmp)\n",
    "    dat = np.array(data, dtype=np.float32)\n",
    "    plt.imshow(dat);\n",
    "    plt.show()\n",
    "    \n",
    "    for i in range(10):\n",
    "        print(lables[i], \" \\t\", e[i], \" \\t\", test_labels[image+j][i])\n",
    "    print()"
   ]
  }
 ],
 "metadata": {
  "kernelspec": {
   "display_name": "Python 3",
   "language": "python",
   "name": "python3"
  },
  "language_info": {
   "codemirror_mode": {
    "name": "ipython",
    "version": 3
   },
   "file_extension": ".py",
   "mimetype": "text/x-python",
   "name": "python",
   "nbconvert_exporter": "python",
   "pygments_lexer": "ipython3",
   "version": "3.5.2"
  }
 },
 "nbformat": 4,
 "nbformat_minor": 2
}
