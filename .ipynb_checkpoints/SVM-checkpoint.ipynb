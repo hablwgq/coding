{
 "cells": [
  {
   "cell_type": "code",
   "execution_count": 1,
   "metadata": {},
   "outputs": [],
   "source": [
    "import sys\n",
    "import numpy as np\n",
    "import random\n",
    "import math\n",
    "from matplotlib import pyplot as plt\n",
    "%matplotlib inline"
   ]
  },
  {
   "cell_type": "code",
   "execution_count": 31,
   "metadata": {
    "collapsed": true
   },
   "outputs": [],
   "source": [
    "def appenddata(d):\n",
    "    x = d[0]\n",
    "    y = d[1]\n",
    "    d.append(x*x)\n",
    "    d.append(y*y)\n",
    "    d.append(x*y)\n",
    "    d.append(1)"
   ]
  },
  {
   "cell_type": "code",
   "execution_count": 40,
   "metadata": {},
   "outputs": [
    {
     "data": {
      "image/png": "[encoded data removed]",
      "text/plain": [
       "<matplotlib.figure.Figure at 0x97e0320>"
      ]
     },
     "metadata": {},
     "output_type": "display_data"
    }
   ],
   "source": [
    "points = [\n",
    "    [2, 5],\n",
    "    [5, 1],\n",
    "    [7, 8],\n",
    "    [1, -5],\n",
    "    [-3, 5],\n",
    "    [6, -2],\n",
    "    [-1, 0],\n",
    "    [2, 8],\n",
    "    [3, 10],\n",
    "    [4, 7],\n",
    "    [0, 8],\n",
    "    [1, 4],\n",
    "    [4,-4]\n",
    "]\n",
    "\n",
    "for p in points:\n",
    "    appenddata(p)\n",
    "\n",
    "X = np.array(points)\n",
    "\n",
    "y = np.array([1,1,-1,-1,-1,-1,-1,1,1,1,1,-1,-1])\n",
    "\n",
    "for d, sample in enumerate(X):\n",
    "    if y[d] == -1:\n",
    "        plt.scatter(sample[0], sample[1], s=120, marker=\".\", linewidths=2,c=\"blue\")\n",
    "    else:\n",
    "        plt.scatter(sample[0], sample[1], s=120, marker=\".\", linewidths=2,c=\"red\")        "
   ]
  },
  {
   "cell_type": "code",
   "execution_count": 41,
   "metadata": {
    "collapsed": true
   },
   "outputs": [],
   "source": [
    "def update_weights(X,Y,learning_rate,epochs):\n",
    "    w = np.random.rand(len(X[0]))\n",
    "    \n",
    "    for epoch in range(1, epochs):\n",
    "        for i, x in enumerate(X):\n",
    "            if Y[i] * np.dot(X[i], w) < 1:\n",
    "                w = w + learning_rate * X[i] * Y[i] + (-2  * (1 / epoch) * w)\n",
    "            else:\n",
    "                w = w + learning_rate * (-2 * (1 / epoch) * w)\n",
    "        if epoch % 5000 == 0:\n",
    "            sys.stdout.write(\"\\r{:.2f} %\".format(100*epoch/epochs))\n",
    "            sys.stdout.flush()\n",
    "            learning_rate *=0.99\n",
    "            \n",
    "            \n",
    "    sys.stdout.write(\"\\r100.00 %\")\n",
    "    sys.stdout.flush()\n",
    "    return w"
   ]
  },
  {
   "cell_type": "code",
   "execution_count": 42,
   "metadata": {},
   "outputs": [
    {
     "name": "stdout",
     "output_type": "stream",
     "text": [
      "100.00 %"
     ]
    }
   ],
   "source": [
    "w = update_weights(X, y, 1, 1000000)"
   ]
  },
  {
   "cell_type": "code",
   "execution_count": 43,
   "metadata": {},
   "outputs": [
    {
     "data": {
      "image/png": "[encoded data removed]",
      "text/plain": [
       "<matplotlib.figure.Figure at 0xbe60438>"
      ]
     },
     "metadata": {},
     "output_type": "display_data"
    }
   ],
   "source": [
    "x = np.linspace(-5,10,75)\n",
    "xx = np.linspace(-5,10,75)\n",
    "points = []\n",
    "for i in x:\n",
    "    for j in xx:\n",
    "        points.append([i,j])\n",
    "for p in points:\n",
    "    appenddata(p)\n",
    "for x in points:    \n",
    "    label = np.dot(np.array(x), w)\n",
    "    if label < 1:\n",
    "        plt.scatter(x[0], x[1], s=20, marker=\".\", linewidth=2, c=\"r\")\n",
    "        \n",
    "\n",
    "for d, sample in enumerate(X):\n",
    "    if y[d] == -1:\n",
    "        plt.scatter(sample[0], sample[1], s=50, marker=\".\", linewidth=2, c=\"b\")\n",
    "    else:\n",
    "        plt.scatter(sample[0], sample[1], s=50, marker=\".\", linewidth=2, c=\"g\")\n",
    "\n",
    "plt.show()"
   ]
  },
  {
   "cell_type": "code",
   "execution_count": null,
   "metadata": {
    "collapsed": true
   },
   "outputs": [],
   "source": []
  }
 ],
 "metadata": {
  "kernelspec": {
   "display_name": "Python 3",
   "language": "python",
   "name": "python3"
  },
  "language_info": {
   "codemirror_mode": {
    "name": "ipython",
    "version": 3
   },
   "file_extension": ".py",
   "mimetype": "text/x-python",
   "name": "python",
   "nbconvert_exporter": "python",
   "pygments_lexer": "ipython3",
   "version": "3.5.2"
  }
 },
 "nbformat": 4,
 "nbformat_minor": 2
}
