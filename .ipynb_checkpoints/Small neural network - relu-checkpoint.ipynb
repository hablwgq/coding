{
 "cells": [
  {
   "cell_type": "code",
   "execution_count": 11,
   "metadata": {
    "collapsed": true
   },
   "outputs": [],
   "source": [
    "import numpy as np\n",
    "from matplotlib import pyplot as plt\n",
    "%matplotlib inline"
   ]
  },
  {
   "cell_type": "code",
   "execution_count": 12,
   "metadata": {},
   "outputs": [],
   "source": [
    "def relu(x,deriv=False):\n",
    "    if deriv:\n",
    "        return 1. * (x > 0)\n",
    "    return x * (x > 0)\n",
    "\n",
    "def sigmoid(x, deriv=False):\n",
    "    if(deriv==True):\n",
    "        return x*(1-x)\n",
    "    return 1/(1+np.exp(-x))"
   ]
  },
  {
   "cell_type": "code",
   "execution_count": 31,
   "metadata": {
    "collapsed": true
   },
   "outputs": [],
   "source": [
    "x = np.array([\n",
    "    [0,0,1],\n",
    "    [0,1,1],\n",
    "    [1,0,1],\n",
    "    [1,1,1]\n",
    "])\n",
    "y = np.array([\n",
    "    [0,1,0,1]\n",
    "]).T\n",
    "\n",
    "syn0 = 2 * np.random.random((3,4))-1\n",
    "syn1 = 2 * np.random.random((4,5))-1\n",
    "syn2 = 2 * np.random.random((5,1))-1"
   ]
  },
  {
   "cell_type": "code",
   "execution_count": 32,
   "metadata": {},
   "outputs": [],
   "source": [
    "for j in range(60000):\n",
    "    l0 = x\n",
    "    l1 = relu(np.dot(l0,syn0))\n",
    "    l2 = relu(np.dot(l1,syn1))\n",
    "    l3 = sigmoid(np.dot(l2,syn2))\n",
    "    \n",
    "    l3_error = y - l3\n",
    "    l3_delta = l3_error * sigmoid(l3,deriv=True)\n",
    "    \n",
    "    l2_error = l3_delta.dot(syn2.T)\n",
    "    l2_delta = l2_error * relu(l2,deriv=True)\n",
    "    \n",
    "    l1_error = l2_delta.dot(syn1.T)\n",
    "    l1_delta = l1_error * relu(l1,deriv=True)\n",
    "    \n",
    "    syn2 += l2.T.dot(l3_delta)\n",
    "    syn1 += l1.T.dot(l2_delta)\n",
    "    syn0 += l0.T.dot(l1_delta)"
   ]
  },
  {
   "cell_type": "code",
   "execution_count": 33,
   "metadata": {},
   "outputs": [
    {
     "name": "stdout",
     "output_type": "stream",
     "text": [
      "[[ 1.35065882  1.0377191   0.08113177  0.03527932]\n",
      " [-0.          0.4165855   1.47662282  1.59453389]\n",
      " [ 1.90646289  1.65142443  0.4450696   0.38573393]\n",
      " [ 0.51995805  1.03029084  1.84056066  1.9449885 ]]\n",
      "[[ 3.30460054 -0.          1.48323703 -0.         -0.        ]\n",
      " [-0.          3.35928782 -0.         -0.          2.49465893]\n",
      " [ 4.55454524  0.78293522  2.06857479 -0.         -0.        ]\n",
      " [ 0.03443934  4.15994859  0.32592056 -0.          2.49160285]]\n",
      "[[  4.65957670e-04]\n",
      " [  9.99632319e-01]\n",
      " [  6.97092297e-05]\n",
      " [  9.99815960e-01]]\n"
     ]
    }
   ],
   "source": [
    "print(l1)\n",
    "print(l2)\n",
    "print(l3)"
   ]
  },
  {
   "cell_type": "code",
   "execution_count": null,
   "metadata": {
    "collapsed": true
   },
   "outputs": [],
   "source": []
  },
  {
   "cell_type": "code",
   "execution_count": null,
   "metadata": {
    "collapsed": true
   },
   "outputs": [],
   "source": []
  }
 ],
 "metadata": {
  "kernelspec": {
   "display_name": "Python 3",
   "language": "python",
   "name": "python3"
  },
  "language_info": {
   "codemirror_mode": {
    "name": "ipython",
    "version": 3
   },
   "file_extension": ".py",
   "mimetype": "text/x-python",
   "name": "python",
   "nbconvert_exporter": "python",
   "pygments_lexer": "ipython3",
   "version": "3.5.2"
  }
 },
 "nbformat": 4,
 "nbformat_minor": 2
}
