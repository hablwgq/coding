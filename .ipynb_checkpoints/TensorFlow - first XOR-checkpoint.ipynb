{
 "cells": [
  {
   "cell_type": "code",
   "execution_count": 1,
   "metadata": {},
   "outputs": [],
   "source": [
    "#Dependencies\n",
    "import random\n",
    "import numpy as np\n",
    "import matplotlib.pylab as plt\n",
    "from mpl_toolkits.mplot3d import Axes3D\n",
    "%matplotlib inline\n",
    "import tensorflow as tf"
   ]
  },
  {
   "cell_type": "code",
   "execution_count": 2,
   "metadata": {},
   "outputs": [],
   "source": [
    "# Define model\n",
    "x = tf.placeholder(tf.float32, [None, 2])\n",
    "\n",
    "W_ih = tf.Variable(tf.random_uniform([2, 8], maxval=1))\n",
    "b_ih = tf.Variable(tf.random_uniform([8], maxval=1))\n",
    "\n",
    "h = tf.nn.relu(tf.matmul(x, W_ih) + b_ih)\n",
    "\n",
    "W_ho = tf.Variable(tf.random_uniform([8,1], maxval=1))\n",
    "b_ho = tf.Variable(tf.random_uniform([1], maxval=1))\n",
    "\n",
    "y = tf.matmul(h, W_ho) + b_ho\n",
    "result = tf.nn.sigmoid(y)\n",
    "\n",
    "y_ = tf.placeholder(tf.float32, [None, 1])\n",
    "\n",
    "cross_entropy = tf.reduce_mean(tf.nn.sigmoid_cross_entropy_with_logits(logits=y, labels=y_))"
   ]
  },
  {
   "cell_type": "code",
   "execution_count": 3,
   "metadata": {},
   "outputs": [],
   "source": [
    "# Generate training- and test-dataset\n",
    "inputvals = []\n",
    "targetvals = []\n",
    "\n",
    "for i in range(500):\n",
    "    tx = random.random() * 2 - 1\n",
    "    ty = random.random() * 2 - 1\n",
    "    inputvals.append([tx,ty])\n",
    "    if (tx > 0 and ty > 0) or (tx <= 0 and ty <= 0):\n",
    "        targetvals.append([0])\n",
    "    else:\n",
    "        targetvals.append([1])\n",
    "        \n",
    "testinput = []\n",
    "testtarget = []\n",
    "for i in range(50):\n",
    "    tx = random.random() * 2 - 1\n",
    "    ty = random.random() * 2 - 1\n",
    "    testinput.append([tx,ty])\n",
    "    if (tx > 0 and ty > 0) or (tx <= 0 and ty <= 0):\n",
    "        testtarget.append([0])\n",
    "    else:\n",
    "        testtarget.append([1])"
   ]
  },
  {
   "cell_type": "code",
   "execution_count": 4,
   "metadata": {},
   "outputs": [
    {
     "name": "stdout",
     "output_type": "stream",
     "text": [
      "step 0, training error 1.30867\n",
      "step 5000, training error 0.0251875\n",
      "step 10000, training error 0.0341814\n",
      "step 15000, training error 0.00493513\n",
      "step 20000, training error 0.040247\n",
      "step 25000, training error 0.141315\n",
      "step 30000, training error 0.0191446\n",
      "step 35000, training error 0.1429\n",
      "step 40000, training error 0.135061\n",
      "step 45000, training error 0.142615\n",
      "step 50000, training error 0.114136\n",
      "step 55000, training error 0.140567\n",
      "step 60000, training error 0.140067\n",
      "step 65000, training error 0.140628\n",
      "step 70000, training error 0.144346\n",
      "step 75000, training error 0.140533\n",
      "step 80000, training error 0.138879\n",
      "step 85000, training error 0.142747\n",
      "step 90000, training error 0.141117\n",
      "step 95000, training error 0.141166\n",
      "step 100000, training error 0.0114836\n",
      "Training complete!\n"
     ]
    }
   ],
   "source": [
    "# Define Optimizer and start running\n",
    "train_step = tf.train.RMSPropOptimizer(0.25, momentum=0.5).minimize(cross_entropy)\n",
    "init = tf.global_variables_initializer()\n",
    "\n",
    "sess = tf.InteractiveSession()\n",
    "sess.run(init)\n",
    "\n",
    "for i in range(100001):\n",
    "    if i%5000 == 0:\n",
    "        te = cross_entropy.eval(feed_dict={x: testinput, y_:testtarget})\n",
    "        print(\"step %d, training error %g\"%(i, te))\n",
    "        if te < 0.00001:\n",
    "            break\n",
    "\n",
    "    sess.run(train_step, feed_dict={x: inputvals, y_: targetvals})\n",
    "print(\"Training complete!\")"
   ]
  },
  {
   "cell_type": "code",
   "execution_count": 5,
   "metadata": {
    "scrolled": true
   },
   "outputs": [
    {
     "data": {
      "image/png": "[encoded data removed]",
      "text/plain": [
       "<matplotlib.figure.Figure at 0x97a8e10>"
      ]
     },
     "metadata": {},
     "output_type": "display_data"
    }
   ],
   "source": [
    "# Output results\n",
    "res = sess.run(result, feed_dict={x: testinput})\n",
    "\n",
    "\n",
    "for i in range(len(inputvals)):\n",
    "    plt.scatter(inputvals[i][0], inputvals[i][1],c=('#dcdcff' if targetvals[i][0] == 1 else '#dcffdc'), label=\"Training data\")\n",
    "\n",
    "for i in range(len(testinput)):\n",
    "    res1 = round(res[i][0])\n",
    "    plt.scatter(testinput[i][0], testinput[i][1],c=('#0000ff' if res1 == 1 else '#00ff00'), label=\"Test data\")\n",
    "\n",
    "plt.show()"
   ]
  }
 ],
 "metadata": {
  "kernelspec": {
   "display_name": "Python 3",
   "language": "python",
   "name": "python3"
  },
  "language_info": {
   "codemirror_mode": {
    "name": "ipython",
    "version": 3
   },
   "file_extension": ".py",
   "mimetype": "text/x-python",
   "name": "python",
   "nbconvert_exporter": "python",
   "pygments_lexer": "ipython3",
   "version": "3.5.2"
  }
 },
 "nbformat": 4,
 "nbformat_minor": 2
}
